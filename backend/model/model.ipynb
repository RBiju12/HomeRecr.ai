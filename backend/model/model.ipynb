{
 "cells": [
  {
   "cell_type": "code",
   "execution_count": null,
   "metadata": {},
   "outputs": [],
   "source": [
    "import pandas as pd\n",
    "from statsmodels.tsa.arima.model import ARIMA\n",
    "import matplotlib.pyplot as plt\n",
    "\n",
    "df = pd.read_csv('historic_home.csv', parse_dates=['date'])\n",
    "zip_codes = df['zip'].unique()\n",
    "df['date'] = pd.to_datetime(df['date'])"
   ]
  },
  {
   "cell_type": "markdown",
   "metadata": {},
   "source": [
    "Data is splitted into multiple individual DataFrames to conduct specific time series analysis to determine a more accurate home price trend. "
   ]
  },
  {
   "cell_type": "code",
   "execution_count": null,
   "metadata": {},
   "outputs": [],
   "source": [
    "df_bb = df[df['zip'] == 24060]\n",
    "\n",
    "df_cb = df[df['zip'] == 24073]\n",
    "\n",
    "df_rnk_1 = df[df['zip'] == 24012]\n",
    "\n",
    "df_rnk_2 = df[df['zip'] == 24014] \n",
    "\n",
    "df_rnk_3 = df[df['zip'] == 24016]\n",
    "\n",
    "df_rnk_4 = df[df['zip'] == 24018]"
   ]
  }
 ],
 "metadata": {
  "kernelspec": {
   "display_name": "venv",
   "language": "python",
   "name": "python3"
  },
  "language_info": {
   "name": "python",
   "version": "3.12.1"
  }
 },
 "nbformat": 4,
 "nbformat_minor": 2
}
